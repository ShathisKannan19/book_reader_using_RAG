{
 "cells": [
  {
   "cell_type": "code",
   "execution_count": 3,
   "metadata": {},
   "outputs": [],
   "source": [
    "import argparse\n",
    "from langchain_community.vectorstores import Chroma\n",
    "from langchain.prompts import ChatPromptTemplate\n",
    "from langchain_community.llms.ollama import Ollama\n",
    "from langchain_huggingface.embeddings import HuggingFaceEmbeddings\n",
    "from tqdm.autonotebook import tqdm, trange"
   ]
  },
  {
   "cell_type": "code",
   "execution_count": 4,
   "metadata": {},
   "outputs": [],
   "source": [
    "def get_embedding_function():\n",
    "    embedding_model = \"mixedbread-ai/mxbai-embed-large-v1\"\n",
    "    embeddings = HuggingFaceEmbeddings(model_name=embedding_model,)\n",
    "    return embeddings"
   ]
  },
  {
   "cell_type": "code",
   "execution_count": 6,
   "metadata": {},
   "outputs": [],
   "source": [
    "CHROMA_PATH = \"chroma\"\n",
    "PROMPT_TEMPLATE = \"\"\"\n",
    "Answer the question based only on the following context:\n",
    "\n",
    "{context}\n",
    "\n",
    "---\n",
    "\n",
    "Answer the question based on the above context: {question}\n",
    "\"\"\""
   ]
  },
  {
   "cell_type": "code",
   "execution_count": 7,
   "metadata": {},
   "outputs": [],
   "source": [
    "def query_rag(query_text: str):\n",
    "    # Prepare the DB.\n",
    "    embedding_function = get_embedding_function()\n",
    "    db = Chroma(persist_directory=CHROMA_PATH, embedding_function=embedding_function)\n",
    "\n",
    "    # Search the DB.\n",
    "    results = db.similarity_search_with_score(query_text, k=5)\n",
    "\n",
    "    context_text = \"\\n\\n---\\n\\n\".join([doc.page_content for doc, _score in results])\n",
    "    prompt_template = ChatPromptTemplate.from_template(PROMPT_TEMPLATE)\n",
    "    prompt = prompt_template.format(context=context_text, question=query_text)\n",
    "    # print(prompt)\n",
    "\n",
    "    model = Ollama(model=\"mistral\")\n",
    "    response_text = model.invoke(prompt)\n",
    "\n",
    "    sources = [doc.metadata.get(\"id\", None) for doc, _score in results]\n",
    "    formatted_response = f\"Response: {response_text}\\nSources: {sources}\"\n",
    "    print(formatted_response)\n",
    "    return response_text"
   ]
  },
  {
   "cell_type": "code",
   "execution_count": 10,
   "metadata": {},
   "outputs": [],
   "source": [
    "def main():\n",
    "    # Create CLI.\n",
    "    # parser = argparse.ArgumentParser()\n",
    "    # parser.add_argument(\"query_text\", type=str, help=\"The query text.\")\n",
    "    # args = parser.parse_args()\n",
    "    # query_text = args.query_text\n",
    "    query_text = input(str(\"Enter question you want to ask ::: \"))\n",
    "    query_rag(query_text)"
   ]
  },
  {
   "cell_type": "code",
   "execution_count": 12,
   "metadata": {},
   "outputs": [
    {
     "name": "stdout",
     "output_type": "stream",
     "text": [
      "Response:  Based on the provided context, here are some key points for you as a newbie to follow when it comes to managing money:\n",
      "\n",
      "1. Prioritize building assets before spending on luxuries like big houses or cars. Avoid getting stuck in the \"Rat Race.\"\n",
      "\n",
      "2. Use financial pressure as a motivator to come up with new ways of making more money instead of dipping into savings or investments. This will help you increase your financial intelligence and ability to make more money.\n",
      "\n",
      "3. Be disciplined and avoid dipping into your savings or investments to pay bills. Instead, look for ways to cut expenses and find deals that can help you build wealth.\n",
      "\n",
      "4. Educate yourself about personal finance by finding an expert in the field or reading books on the subject. Avoid investing in things you don't understand and be wary of people who have no idea what they are talking about.\n",
      "\n",
      "5. Pay yourself first by setting aside money for savings, investments, or other financial goals before spending on non-essential items. This will help you build financial strength mentally and fiscally.\n",
      "Sources: ['data/Rich-Dad-Poor-Dad.pdf:66:3', 'data/Rich-Dad-Poor-Dad.pdf:171:1', 'data/Rich-Dad-Poor-Dad.pdf:171:2', 'data/Rich-Dad-Poor-Dad.pdf:159:0', 'data/Rich-Dad-Poor-Dad.pdf:158:2']\n"
     ]
    }
   ],
   "source": [
    "main()"
   ]
  }
 ],
 "metadata": {
  "kernelspec": {
   "display_name": ".venv",
   "language": "python",
   "name": "python3"
  },
  "language_info": {
   "codemirror_mode": {
    "name": "ipython",
    "version": 3
   },
   "file_extension": ".py",
   "mimetype": "text/x-python",
   "name": "python",
   "nbconvert_exporter": "python",
   "pygments_lexer": "ipython3",
   "version": "3.12.4"
  }
 },
 "nbformat": 4,
 "nbformat_minor": 2
}
