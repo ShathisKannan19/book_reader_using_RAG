{
 "cells": [
  {
   "cell_type": "code",
   "execution_count": 1,
   "metadata": {},
   "outputs": [],
   "source": [
    "import argparse\n",
    "import os\n",
    "import shutil\n",
    "from langchain_community.document_loaders.pdf import PyPDFDirectoryLoader\n",
    "from langchain_text_splitters import RecursiveCharacterTextSplitter\n",
    "from langchain.schema.document import Document\n",
    "from langchain_community.vectorstores import Chroma\n",
    "from tqdm import tqdm\n",
    "\n",
    "# Embeedings using for create the Vector HuggingFaceEmbeddings\n",
    "from langchain_huggingface.embeddings import HuggingFaceEmbeddings"
   ]
  },
  {
   "cell_type": "code",
   "execution_count": 2,
   "metadata": {},
   "outputs": [],
   "source": [
    "CHROMA_PATH = \"chroma\"\n",
    "DATA_PATH = \"./data\""
   ]
  },
  {
   "cell_type": "code",
   "execution_count": 3,
   "metadata": {},
   "outputs": [],
   "source": [
    "def get_embedding_function():\n",
    "    embedding_model = \"mixedbread-ai/mxbai-embed-large-v1\"\n",
    "    embeddings = HuggingFaceEmbeddings(model_name=embedding_model,)\n",
    "    return embeddings"
   ]
  },
  {
   "cell_type": "code",
   "execution_count": 4,
   "metadata": {},
   "outputs": [],
   "source": [
    "def load_documents():\n",
    "    document_loader = PyPDFDirectoryLoader(DATA_PATH)\n",
    "    return document_loader.load()"
   ]
  },
  {
   "cell_type": "code",
   "execution_count": 5,
   "metadata": {},
   "outputs": [],
   "source": [
    "def split_documents(documents: list[Document]):\n",
    "    text_splitter = RecursiveCharacterTextSplitter(\n",
    "        chunk_size=800,\n",
    "        chunk_overlap=80,\n",
    "        length_function=len,\n",
    "        is_separator_regex=False,\n",
    "    )\n",
    "    return text_splitter.split_documents(documents)"
   ]
  },
  {
   "cell_type": "code",
   "execution_count": 6,
   "metadata": {},
   "outputs": [],
   "source": [
    "def calculate_chunk_ids(chunks):\n",
    "\n",
    "    # This will create IDs like \"data/monopoly.pdf:6:2\"\n",
    "    # Page Source : Page Number : Chunk Index\n",
    "\n",
    "    last_page_id = None\n",
    "    current_chunk_index = 0\n",
    "\n",
    "    for chunk in tqdm(chunks, desc=\"Processing chunks\"):\n",
    "        source = chunk.metadata.get(\"source\")\n",
    "        page = chunk.metadata.get(\"page\")\n",
    "        current_page_id = f\"{source}:{page}\"\n",
    "\n",
    "        # If the page ID is the same as the last one, increment the index.\n",
    "        if current_page_id == last_page_id:\n",
    "            current_chunk_index += 1\n",
    "        else:\n",
    "            current_chunk_index = 0\n",
    "\n",
    "        # Calculate the chunk ID.\n",
    "        chunk_id = f\"{current_page_id}:{current_chunk_index}\"\n",
    "        last_page_id = current_page_id\n",
    "\n",
    "        # Add it to the page meta-data.\n",
    "        chunk.metadata[\"id\"] = chunk_id\n",
    "\n",
    "    return chunks"
   ]
  },
  {
   "cell_type": "code",
   "execution_count": 7,
   "metadata": {},
   "outputs": [],
   "source": [
    "def add_to_chroma(chunks: list[Document]):\n",
    "    # Load the existing database.\n",
    "    db = Chroma(\n",
    "        persist_directory=CHROMA_PATH, embedding_function=get_embedding_function()\n",
    "    )\n",
    "\n",
    "    # Calculate Page IDs.\n",
    "    chunks_with_ids = calculate_chunk_ids(chunks)\n",
    "\n",
    "    # Add or Update the documents.\n",
    "    existing_items = db.get(include=[])  # IDs are always included by default\n",
    "    existing_ids = set(existing_items[\"ids\"])\n",
    "    print(f\"Number of existing documents in DB: {len(existing_ids)}\")\n",
    "\n",
    "    # Only add documents that don't exist in the DB.\n",
    "    new_chunks = []\n",
    "    for chunk in tqdm(chunks_with_ids, desc=\"Processing chunks\"):\n",
    "        if chunk.metadata[\"id\"] not in existing_ids:\n",
    "            new_chunks.append(chunk)\n",
    "\n",
    "    if len(new_chunks):\n",
    "        print(f\"👉 Adding new documents: {len(new_chunks)}\")\n",
    "        new_chunk_ids = [chunk.metadata[\"id\"] for chunk in new_chunks]\n",
    "        db.add_documents(new_chunks, ids=new_chunk_ids)\n",
    "        db.persist()\n",
    "    else:\n",
    "        print(\"✅ No new documents to add\")"
   ]
  },
  {
   "cell_type": "code",
   "execution_count": 8,
   "metadata": {},
   "outputs": [],
   "source": [
    "def clear_database():\n",
    "    if os.path.exists(CHROMA_PATH):\n",
    "        shutil.rmtree(CHROMA_PATH)"
   ]
  },
  {
   "cell_type": "code",
   "execution_count": 9,
   "metadata": {},
   "outputs": [],
   "source": [
    "def main():\n",
    "\n",
    "    # Check if the database should be cleared (using the --clear flag).\n",
    "    # parser = argparse.ArgumentParser()\n",
    "    # parser.add_argument(\"--reset\", action=\"store_true\", help=\"Reset the database.\")\n",
    "    # args = parser.parse_args()\n",
    "    # if args.reset:\n",
    "    #     print(\"✨ Clearing Database\")\n",
    "    #     clear_database()\n",
    "\n",
    "    # Create (or update) the data store.\n",
    "    documents = load_documents()\n",
    "    chunks = split_documents(documents)\n",
    "    add_to_chroma(chunks)"
   ]
  },
  {
   "cell_type": "code",
   "execution_count": 10,
   "metadata": {},
   "outputs": [
    {
     "name": "stderr",
     "output_type": "stream",
     "text": [
      "/Users/shathiskannan/Library/CloudStorage/OneDrive-TalentshipGmbH/Learning/.venv/lib/python3.12/site-packages/sentence_transformers/cross_encoder/CrossEncoder.py:11: TqdmWarning: IProgress not found. Please update jupyter and ipywidgets. See https://ipywidgets.readthedocs.io/en/stable/user_install.html\n",
      "  from tqdm.autonotebook import tqdm, trange\n",
      "/Users/shathiskannan/Library/CloudStorage/OneDrive-TalentshipGmbH/Learning/.venv/lib/python3.12/site-packages/langchain_core/_api/deprecation.py:139: LangChainDeprecationWarning: The class `Chroma` was deprecated in LangChain 0.2.9 and will be removed in 0.4. An updated version of the class exists in the langchain-chroma package and should be used instead. To use it run `pip install -U langchain-chroma` and import as `from langchain_chroma import Chroma`.\n",
      "  warn_deprecated(\n",
      "Processing chunks: 100%|██████████| 620/620 [00:00<00:00, 2951723.59it/s]\n"
     ]
    },
    {
     "name": "stdout",
     "output_type": "stream",
     "text": [
      "Number of existing documents in DB: 0\n"
     ]
    },
    {
     "name": "stderr",
     "output_type": "stream",
     "text": [
      "Processing chunks: 100%|██████████| 620/620 [00:00<00:00, 3386026.67it/s]\n"
     ]
    },
    {
     "name": "stdout",
     "output_type": "stream",
     "text": [
      "👉 Adding new documents: 620\n"
     ]
    },
    {
     "name": "stderr",
     "output_type": "stream",
     "text": [
      "/Users/shathiskannan/Library/CloudStorage/OneDrive-TalentshipGmbH/Learning/.venv/lib/python3.12/site-packages/langchain_core/_api/deprecation.py:139: LangChainDeprecationWarning: Since Chroma 0.4.x the manual persistence method is no longer supported as docs are automatically persisted.\n",
      "  warn_deprecated(\n"
     ]
    }
   ],
   "source": [
    "main()"
   ]
  },
  {
   "cell_type": "code",
   "execution_count": 11,
   "metadata": {},
   "outputs": [
    {
     "name": "stdout",
     "output_type": "stream",
     "text": [
      "My name is Shathis Kannan Vijayakumar and Also I want to talk with you Text creation time: 0.759769 seconds\n",
      "\n",
      "Total creation time: 0.759769 seconds\n"
     ]
    }
   ],
   "source": [
    "import time\n",
    "\n",
    "def time_duration_check():\n",
    "    bot_response = \"My name is Shathis Kannan Vijayakumar and Also I want to talk with you\"\n",
    "    words = bot_response.split()\n",
    "    \n",
    "    start_time = time.time()\n",
    "    \n",
    "    for word in words:\n",
    "        yield word + \" \"\n",
    "        time.sleep(0.05)\n",
    "\n",
    "    \n",
    "    end_time = time.time()\n",
    "    creation_time = end_time - start_time\n",
    "    print(f\"Text creation time: {creation_time:.6f} seconds\")\n",
    "    yield creation_time\n",
    "\n",
    "# Run the function and iterate through the generator\n",
    "for item in time_duration_check():\n",
    "    if isinstance(item, str):\n",
    "        print(item, end='', flush=True)\n",
    "    else:\n",
    "        creation_time = item\n",
    "\n",
    "print()  # Add a newline at the end\n",
    "print(f\"Total creation time: {creation_time:.6f} seconds\")"
   ]
  },
  {
   "cell_type": "code",
   "execution_count": 9,
   "metadata": {},
   "outputs": [
    {
     "name": "stderr",
     "output_type": "stream",
     "text": [
      "<>:4: SyntaxWarning: invalid escape sequence '\\p'\n",
      "<>:4: SyntaxWarning: invalid escape sequence '\\p'\n",
      "/var/folders/ch/hv0k2jf12jjcggtw2z2mqcyw0000gp/T/ipykernel_80864/1441000150.py:4: SyntaxWarning: invalid escape sequence '\\p'\n",
      "  display(Latex('\\pi'))\n"
     ]
    },
    {
     "data": {
      "text/markdown": [
       "My friend, let's dive into the world of financial literacy with \"Rich Dad Poor Dad\" by Robert Kiyosaki. Here's a step-by-step breakdown of the book's key takeaways:\n",
       "\n",
       "**Step 1: Understand the difference between assets and liabilities**\n",
       "Kiyosaki explains that assets generate income, while liabilities cost you money. He emphasizes the importance of building assets, such as real estate, stocks, or businesses, to create wealth.\n",
       "\n",
       "**Step 2: Don't work for money, make money work for you**\n",
       "The author stresses that traditional employment is not the key to financial freedom. Instead, focus on creating passive income streams that can generate wealth without requiring your direct involvement.\n",
       "\n",
       "**Step 3: Mind your own business**\n",
       "Kiyosaki encourages readers to focus on building their own wealth, rather than relying on a salary or someone else's business. This means taking control of your financial education and making informed decisions about your money.\n",
       "\n",
       "**Step 4: Taxes and accounting**\n",
       "The book highlights the importance of understanding taxes and accounting to minimize your tax liability and maximize your wealth. Kiyosaki advocates for seeking professional advice to optimize your financial strategy.\n",
       "\n",
       "**Step 5: The power of financial education**\n",
       "Kiyosaki emphasizes the importance of financial literacy and education in achieving financial freedom. He encourages readers to continuously learn and improve their financial knowledge to make informed decisions.\n",
       "\n",
       "**Step 6: Overcome fear and take action**\n",
       "The author stresses that fear and doubt can hold you back from achieving financial success. He encourages readers to take calculated risks and take action towards their financial goals.\n",
       "\n",
       "**Step 7: Build multiple income streams**\n",
       "Kiyosaki advocates for diversifying your income streams to reduce financial risk. This can include investing in real estate, stocks, or starting a side business.\n",
       "\n",
       "**Step 8: Give back and build wealth**\n",
       "The book concludes by emphasizing the importance of giving back to your community and building wealth that benefits others. Kiyosaki encourages readers to use their wealth to make a positive impact on the world.\n",
       "\n",
       "That's a summary of the key takeaways from \"Rich Dad Poor Dad\"! I hope this helps you on your financial journey, my friend"
      ],
      "text/plain": [
       "<IPython.core.display.Markdown object>"
      ]
     },
     "metadata": {},
     "output_type": "display_data"
    },
    {
     "data": {
      "text/latex": [
       "\\pi"
      ],
      "text/plain": [
       "<IPython.core.display.Latex object>"
      ]
     },
     "metadata": {},
     "output_type": "display_data"
    }
   ],
   "source": [
    "from IPython.display import display, Markdown, Latex\n",
    "display(Markdown(\"\"\"My friend, let\\'s dive into the world of financial literacy with \"Rich Dad Poor Dad\" by Robert Kiyosaki. Here\\'s a step-by-step breakdown of the book\\'s key takeaways:\\n\\n**Step 1: Understand the difference between assets and liabilities**\\nKiyosaki explains that assets generate income, while liabilities cost you money. He emphasizes the importance of building assets, such as real estate, stocks, or businesses, to create wealth.\\n\\n**Step 2: Don\\'t work for money, make money work for you**\\nThe author stresses that traditional employment is not the key to financial freedom. Instead, focus on creating passive income streams that can generate wealth without requiring your direct involvement.\\n\\n**Step 3: Mind your own business**\\nKiyosaki encourages readers to focus on building their own wealth, rather than relying on a salary or someone else\\'s business. This means taking control of your financial education and making informed decisions about your money.\\n\\n**Step 4: Taxes and accounting**\\nThe book highlights the importance of understanding taxes and accounting to minimize your tax liability and maximize your wealth. Kiyosaki advocates for seeking professional advice to optimize your financial strategy.\\n\\n**Step 5: The power of financial education**\\nKiyosaki emphasizes the importance of financial literacy and education in achieving financial freedom. He encourages readers to continuously learn and improve their financial knowledge to make informed decisions.\\n\\n**Step 6: Overcome fear and take action**\\nThe author stresses that fear and doubt can hold you back from achieving financial success. He encourages readers to take calculated risks and take action towards their financial goals.\\n\\n**Step 7: Build multiple income streams**\\nKiyosaki advocates for diversifying your income streams to reduce financial risk. This can include investing in real estate, stocks, or starting a side business.\\n\\n**Step 8: Give back and build wealth**\\nThe book concludes by emphasizing the importance of giving back to your community and building wealth that benefits others. Kiyosaki encourages readers to use their wealth to make a positive impact on the world.\\n\\nThat\\'s a summary of the key takeaways from \"Rich Dad Poor Dad\"! I hope this helps you on your financial journey, my friend\"\"\"))\n",
    "\n",
    "display(Latex('\\pi'))"
   ]
  },
  {
   "cell_type": "code",
   "execution_count": null,
   "metadata": {},
   "outputs": [],
   "source": []
  }
 ],
 "metadata": {
  "kernelspec": {
   "display_name": ".venv",
   "language": "python",
   "name": "python3"
  },
  "language_info": {
   "codemirror_mode": {
    "name": "ipython",
    "version": 3
   },
   "file_extension": ".py",
   "mimetype": "text/x-python",
   "name": "python",
   "nbconvert_exporter": "python",
   "pygments_lexer": "ipython3",
   "version": "3.12.4"
  }
 },
 "nbformat": 4,
 "nbformat_minor": 2
}
